{
 "cells": [
  {
   "cell_type": "markdown",
   "metadata": {},
   "source": [
    "# Biodiversity in National Parks\n",
    "Jonathan Bitner | Started 3/11/2024\\\n",
    "Codecademy portfolio project\\\n",
    "My goal is to showcase my thought process when looking at the data and explain each decision I make.\\\n",
    "For questions or comments, email at jsbitner94@gmail.com"
   ]
  },
  {
   "cell_type": "markdown",
   "metadata": {},
   "source": [
    "## I. Outline:\n",
    "* Review data in `observations.csv` and `species_info.csv`\n",
    "* Determine project goals\n",
    "* Consider analytical steps required\n",
    "* Explore and explain data\n",
    "* Format for presentation"
   ]
  },
  {
   "cell_type": "markdown",
   "metadata": {},
   "source": [
    "## II. Review the data\n",
    "\n",
    "### Import files"
   ]
  },
  {
   "cell_type": "code",
   "execution_count": 1,
   "metadata": {},
   "outputs": [],
   "source": [
    "import numpy as np\n",
    "import pandas as pd\n",
    "import matplotlib.pyplot as plt\n",
    "from scipy.stats import pearsonr, chi2_contingency\n",
    "\n",
    "observations_csv = pd.read_csv(r'C:\\Users\\jsbit\\OneDrive\\Documents\\Coding 2023\\Git\\national-parks-biodiversity\\observations.csv', encoding_errors='replace')\n",
    "species_info_csv = pd.read_csv(r'C:\\Users\\jsbit\\OneDrive\\Documents\\Coding 2023\\Git\\national-parks-biodiversity\\species_info.csv', encoding_errors='replace')"
   ]
  },
  {
   "cell_type": "markdown",
   "metadata": {},
   "source": [
    "### Descriptive statistics\n",
    "#### Descriptives for `observations_csv`"
   ]
  },
  {
   "cell_type": "code",
   "execution_count": 29,
   "metadata": {},
   "outputs": [
    {
     "name": "stdout",
     "output_type": "stream",
     "text": [
      "First five rows:\n",
      "             scientific_name                            park_name  observations\n",
      "0        Vicia benghalensis  Great Smoky Mountains National Park            68\n",
      "1            Neovison vison  Great Smoky Mountains National Park            77\n",
      "2         Prunus subcordata               Yosemite National Park           138\n",
      "3      Abutilon theophrasti                  Bryce National Park            84\n",
      "4  Githopsis specularioides  Great Smoky Mountains National Park            85\n",
      "\n",
      "Column names:\n",
      " Index(['scientific_name', 'park_name', 'observations'], dtype='object') \n",
      "\n",
      "Info:\n",
      "<class 'pandas.core.frame.DataFrame'>\n",
      "RangeIndex: 23296 entries, 0 to 23295\n",
      "Data columns (total 3 columns):\n",
      " #   Column           Non-Null Count  Dtype \n",
      "---  ------           --------------  ----- \n",
      " 0   scientific_name  23296 non-null  object\n",
      " 1   park_name        23296 non-null  object\n",
      " 2   observations     23296 non-null  int64 \n",
      "dtypes: int64(1), object(2)\n",
      "memory usage: 546.1+ KB\n",
      "None\n",
      "\n",
      "Description:\n",
      "          scientific_name                            park_name  observations\n",
      "count              23296                                23296  23296.000000\n",
      "unique              5541                                    4           NaN\n",
      "top     Myotis lucifugus  Great Smoky Mountains National Park           NaN\n",
      "freq                  12                                 5824           NaN\n",
      "mean                 NaN                                  NaN    142.287904\n",
      "std                  NaN                                  NaN     69.890532\n",
      "min                  NaN                                  NaN      9.000000\n",
      "25%                  NaN                                  NaN     86.000000\n",
      "50%                  NaN                                  NaN    124.000000\n",
      "75%                  NaN                                  NaN    195.000000\n",
      "max                  NaN                                  NaN    321.000000\n"
     ]
    }
   ],
   "source": [
    "print('First five rows:\\n', observations_csv.head())\n",
    "print('\\nColumn names:\\n', observations_csv.columns, '\\n\\nInfo:')\n",
    "print(observations_csv.info())\n",
    "print('\\nDescription:\\n', observations_csv.describe(include='all'))"
   ]
  },
  {
   "cell_type": "markdown",
   "metadata": {},
   "source": [
    "#### Initial observations\n",
    "* Curious if all `park_name` values end in `National Park`\n",
    "* Column names are approptiately named and formatted (lowercase, underscore_for_space, no whitespace)\n",
    "* No missing data on initial inspection\n",
    "* Data types are appropriate\n",
    "* Surprised to see the large amount of data for only four national parks\n",
    "    * Potential to change `park_name` to Categorical\n",
    "\n",
    "#### Descriptives for `species_info_csv`"
   ]
  },
  {
   "cell_type": "code",
   "execution_count": 30,
   "metadata": {},
   "outputs": [
    {
     "name": "stdout",
     "output_type": "stream",
     "text": [
      "First five rows:\n",
      "   category                scientific_name  \\\n",
      "0   Mammal  Clethrionomys gapperi gapperi   \n",
      "1   Mammal                      Bos bison   \n",
      "2   Mammal                     Bos taurus   \n",
      "3   Mammal                     Ovis aries   \n",
      "4   Mammal                 Cervus elaphus   \n",
      "\n",
      "                                        common_names conservation_status  \n",
      "0                           Gapper's Red-Backed Vole                 NaN  \n",
      "1                              American Bison, Bison                 NaN  \n",
      "2  Aurochs, Aurochs, Domestic Cattle (Feral), Dom...                 NaN  \n",
      "3  Domestic Sheep, Mouflon, Red Sheep, Sheep (Feral)                 NaN  \n",
      "4                                      Wapiti Or Elk                 NaN  \n",
      "\n",
      "Column names:\n",
      " Index(['category', 'scientific_name', 'common_names', 'conservation_status'], dtype='object') \n",
      "\n",
      "Info:\n",
      "<class 'pandas.core.frame.DataFrame'>\n",
      "RangeIndex: 5824 entries, 0 to 5823\n",
      "Data columns (total 4 columns):\n",
      " #   Column               Non-Null Count  Dtype \n",
      "---  ------               --------------  ----- \n",
      " 0   category             5824 non-null   object\n",
      " 1   scientific_name      5824 non-null   object\n",
      " 2   common_names         5824 non-null   object\n",
      " 3   conservation_status  191 non-null    object\n",
      "dtypes: object(4)\n",
      "memory usage: 182.1+ KB\n",
      "None\n",
      "\n",
      "Description:\n",
      "               category    scientific_name        common_names  \\\n",
      "count             5824               5824                5824   \n",
      "unique               7               5541                5504   \n",
      "top     Vascular Plant  Castor canadensis  Brachythecium Moss   \n",
      "freq              4470                  3                   7   \n",
      "\n",
      "       conservation_status  \n",
      "count                  191  \n",
      "unique                   4  \n",
      "top     Species of Concern  \n",
      "freq                   161  \n"
     ]
    }
   ],
   "source": [
    "print('First five rows:\\n', species_info_csv.head())\n",
    "print('\\nColumn names:\\n', species_info_csv.columns, '\\n\\nInfo:')\n",
    "print(species_info_csv.info())\n",
    "print('\\nDescription:\\n', species_info_csv.describe(include='all'))"
   ]
  },
  {
   "cell_type": "markdown",
   "metadata": {},
   "source": [
    "#### Initial observations\n",
    "* I had the impression I would be working with trees; good to know that this must contain all life in the national parks.\n",
    "* Could encounter difficulties with length of `common_names` due to multiple entries in a single observation\n",
    "* Columns are appropriately named and formatted\n",
    "* Data types are approptiate\n",
    "    * Potential to change `category` to Categorical, since there are only seven unique values\n",
    "    * Same for `conservation_status`; four unique values\n",
    "* Only `conservation_status` is missing values\n",
    "    * Are values only included for endangered species?\n",
    "    * It seems worth exploring endangered species further\n",
    "* I am surprised to see that the `count` and `unique` values are not the same for `scientific_name` and `common_names`\n",
    "    * Could a species be listed as `endangered` in one region, but not another, resulting in separate rows? Unlikely, since this dataset is not connected to `observations_csv` and has no park or region-related information.\n",
    "    * Could there be multiple choices for `common_names`? Unlikely, since there can be multiple names in `common_names`"
   ]
  }
 ],
 "metadata": {
  "kernelspec": {
   "display_name": "Python 3 (ipykernel)",
   "language": "python",
   "name": "python3"
  },
  "language_info": {
   "codemirror_mode": {
    "name": "ipython",
    "version": 3
   },
   "file_extension": ".py",
   "mimetype": "text/x-python",
   "name": "python",
   "nbconvert_exporter": "python",
   "pygments_lexer": "ipython3",
   "version": "3.11.5"
  }
 },
 "nbformat": 4,
 "nbformat_minor": 4
}
