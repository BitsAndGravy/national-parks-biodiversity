{
 "cells": [
  {
   "cell_type": "markdown",
   "id": "aa992691",
   "metadata": {},
   "source": [
    "# Data analysis report practice\n",
    "\n",
    "## A. Introduction\n",
    "\n",
    "* The main purpose is for practice - I want to plan the best way to 'play my cards.' \n",
    "* There will be a lot of context; spending more time on context will help give the report a better shape.\n",
    "* I am not going to edit this document much - I know I can do that well. "
   ]
  },
  {
   "cell_type": "markdown",
   "id": "f69afd42",
   "metadata": {},
   "source": [
    "## B. Report preparation\n",
    "\n",
    "### Audience\n",
    "* Primary audience: Someone from the National Park Service (NPS)"
   ]
  },
  {
   "cell_type": "markdown",
   "id": "61192f6b",
   "metadata": {},
   "source": [
    "### Structure\n",
    "\n",
    "#### Introduction\n",
    "* Provide relevant context (domain information relevant to the question(s) at hand)\n",
    "* Describe the main questions driving the analysis\n",
    "* Summarize my conclusions\n",
    "* Brief outline of the remainder of the paper\n",
    "\n",
    "#### Body\n",
    "* Data \n",
    "* Subset for each question raised in the introduction\n",
    "* Include 1-2 visualizations per question to efficiently convey points without being overly distracting\n",
    "\n",
    "#### Conclusion and discussion\n",
    "* Repeat questions and conclusions\n",
    "* New questions, future work"
   ]
  },
  {
   "cell_type": "markdown",
   "id": "a0753d6b",
   "metadata": {},
   "source": [
    "## C. Sample report\n",
    "### I. Introduction:\n",
    "\n",
    "Hello,\n",
    "\n",
    "You provided me with two datasets. The first was a list of various plant and animal species and their conservation status, and the second contained the population of each of these species in four national parks: Bryce, Great Smoky Mountains, Yellowstone, and Yosemite.\n",
    "\n",
    "#### Background\n",
    "[Mention something about data collection, like: Values recorded over a long period of time vs a snapshot or estimation? How old is the data? etc. I made assumptions about what the data meant, it would have been nice to have more clarity on certain variables. ]\n",
    "\n",
    "[Describe history of the parks, such as date founded, geography, previous conservation efforts, unique park features]\n",
    "\n",
    "[Describe basics of conservation, difference between endangered/threatened etc, importance of prevention vs recovery]\n",
    "\n",
    "#### Summary of conclusions\n",
    "Dataset containing observations appears to be inaccurate\n",
    "* All parks contained at least nine of each species\n",
    "* By volume alone (almost 6,000 unique species) I would expect some parks to not have some species\n",
    "* Instead, I found that some parks had species that were thought extirpated since 1934\n",
    "* Example: Great Smoky Mountains National Park had 194 bison, 66 gray and red wolves, and an astounding 311 mountain lions\n",
    "    * Given that the area of the park is only about 800 sq mi, that would mean there is a different mountain lion every 3 sq mi\n",
    "    * Typical range for a mountian lion is 25-785 sq mi\n",
    "        \n",
    "        \n",
    "Conservation efforts should be proportionally divided among the parks\n",
    "* The four parks were rather homogenous in regards to distribution of category, status, species.\n",
    "* Even the top five in each of the four parks by population was homogenous, with only 10 species taking up all 20 spots\n",
    "    \n",
    "    \n",
    "Further analysis: If I had infinite time, I would dive deeper in the conservation status of each species\n",
    "* Compare average populations for endangered/threatened etc\n",
    "* Compare average populations by park, see if one park deserves more attention\n",
    "* Compare conservation status with category, see what plant/animal is most endangered\n",
    "* Research why certain species might be at greater risk in certain geographies compared to others\n",
    "\n",
    "#### Outline of report\n",
    "Not sure what exactly to write. Body: supporting evidence for conclusions? Conclusions and discussion? Isn't this what headers are for?"
   ]
  },
  {
   "cell_type": "markdown",
   "id": "77ecb6c8",
   "metadata": {},
   "source": [
    "### II. Body:\n",
    "#### Data:\n",
    "[Provide audience-friendly version of my \"description of file variables\" section in the \"biodiversity\" file, no need to copy and paste and waste time editing it to look nice]\n",
    "\n",
    "#### Question 1: Is the data accurate?\n",
    "Inspection of observations.csv\n",
    "* I was surprised to see that the lowest value for all of the observations was nine. \n",
    "    * I assumed that maybe if a park had none of a given species, there would not be a row for that park and species.\n",
    "    * However, when I was checking for duplicates, I noticed that each park had a row for each species, indicating that there were no 'missing rows' like I had thought before.\n",
    "    * This was my first hint that something was not right with the dataset, but probably something I could correct.\n",
    "    * My second hint was when I saw that 'Myotis lucifugus' was repeated 12 times, indicating that there were duplicates, so I moved on to species_info.csv to see if I could find out more.\n",
    "\n",
    "Inspection of species_info.csv \n",
    "* I was surprised to find duplicate entries for species in species_info.csv\n",
    "    * In total, there were 5,824 rows, but only 5,541 unique species, indicating that some species were duplicated.\n",
    "    * I found that the difference between duplicated rows was the \"common_names\" column. A few explanations are:\n",
    "        * The common names were listed in a different order ([Gray Fox, Fox] versus [Fox, Gray Fox])\n",
    "        * Some duplicate rows had additional or missing common names ([Gray Fox, Fox] versus [Gray Fox])\n",
    "        * Some common names were too long, and followed by an ellpise\n",
    "    * I managed to account for duplicate species by merging the common names together (two rows for [Gray Fox, Fox] and [Fox, Gray Fox] merged to become one row for [Gray Fox, Fox])\n",
    "    \n",
    "\\\\ Realizing that the above section does not answer the question. It might indicate inconsistencies, but I was able to resolve them. Inappropriately labeled data can be fixable, and not the same as wrong data, which I am trying to present. Skip to next section.\n",
    "\n",
    "\\\\ The first section is helpful in explaining that each species is listed once for each park, and that there are no missing values, but looking back, it feels a bit like beating around the bush. I would ... delete the whole thing? Maybe it's not necessary at all. Yes, delete the above two sections because they are more about process and do nothing to defend my answer.\n",
    "\n",
    "    \n",
    "A closer look at the data\n",
    "* I found it odd that bison were observed in Great Smoky Mountains National Park. \n",
    "    * After sorting the data alphabetically by scientific name, bison happened to be among the first rows I visually inspected. \n",
    "    * I researched if bison were in the Great Smoky Mountains, but an NPS article told me they were extirpated since 1934 and not re-introduced to the area, meaning that there are no bison in the park.\n",
    "    * The same article listed a few other species that were extirpated, whose names are: Canus lupus (Gray wolf), Canis rufus (Red wolf), Felis concolor and Puma concolor (Cougar).\n",
    "\n",
    "* [copy paste results for count of extirpated species in Great Smoky Mountains]\n",
    "* [Iterate how the presence/quantity of these species in this geography is unlikely]\n",
    "* [Do more analysis to see if there are other species that do not belong in the other parks to add to the argument that the data is inaccurate]\n",
    "\n",
    "#### Question 2: How are the parks different?\n",
    "* In my analysis, the parks were strikingly similar.\n",
    "    * [Describe proportions for category and conservation status, throw in the bar chart comparing proportions of category by park]\n",
    "    * [Describe miniscule differences in proportions, how there is only a 0.1% difference for the given characteristics]\n",
    "    * [Consider describing why comparing proportions can tell us more than comparing total populations]\n",
    "* The only variance was the total population in each park.\n",
    "    * From smallest population to largest: Great Smoky Mountains, Bryce, Yosemite, Yellowstone.\n",
    "    * [List numbers to compare sizes]\n",
    "\n",
    "#### Question 3: Where should conservation efforts be focused?\n",
    "* Since parks are homogenous, efforts should be proportional to total population\n",
    "    * Each park has the same endangered species, and the same proportion\n",
    "    * Each park had the same proportion of endangered to threatened etc [include chart showing percents]"
   ]
  },
  {
   "cell_type": "markdown",
   "id": "e7c8bfbc",
   "metadata": {},
   "source": [
    "### III. Conclusion and discussion:\n",
    "\n",
    "Conclusions: Repeat from above\n",
    "\n",
    "Future directions:\n",
    "* What about other parks?\n",
    "* Can we extrapolate this information?\n",
    "* How does this compare with historical data?\n",
    "* Are conservation efforts working?"
   ]
  },
  {
   "cell_type": "markdown",
   "id": "dfa441fe",
   "metadata": {},
   "source": [
    "### IV. Appendix\n",
    "* [All the charts and stuff I made, but were not directly relevant to the arguments above. ]\n",
    "* [Explain how and why I did all the steps, how I got my results, etc]"
   ]
  }
 ],
 "metadata": {
  "kernelspec": {
   "display_name": "Python 3 (ipykernel)",
   "language": "python",
   "name": "python3"
  },
  "language_info": {
   "codemirror_mode": {
    "name": "ipython",
    "version": 3
   },
   "file_extension": ".py",
   "mimetype": "text/x-python",
   "name": "python",
   "nbconvert_exporter": "python",
   "pygments_lexer": "ipython3",
   "version": "3.11.5"
  }
 },
 "nbformat": 4,
 "nbformat_minor": 5
}
